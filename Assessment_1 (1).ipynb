{
  "nbformat": 4,
  "nbformat_minor": 0,
  "metadata": {
    "colab": {
      "provenance": []
    },
    "kernelspec": {
      "name": "python3",
      "display_name": "Python 3"
    },
    "language_info": {
      "name": "python"
    }
  },
  "cells": [
    {
      "cell_type": "markdown",
      "source": [
        "#Assessment Python Basics"
      ],
      "metadata": {
        "id": "FyTJ6zOq6Czc"
      }
    },
    {
      "cell_type": "markdown",
      "source": [
        "1. What is Python, and why is it popular ?\n",
        "-  Python is a high-level, interpreted programming language known for its simplicity, readability, and versatility ,readability with a clean and easy-to-learn syntax, it is popular beacuse Easy to Learn & Use , Versatility , Huge Ecosystem, Community & Industry Support , Productivity ."
      ],
      "metadata": {
        "id": "X7_5ww356XZG"
      }
    },
    {
      "cell_type": "markdown",
      "source": [
        "2. What is an interpreter in Python ?\n",
        " - An interpreter in Python is a program that reads and executes Python code line by line . or The Python interpreter is like a translator that reads your code one line at a time and tells the computer what to do."
      ],
      "metadata": {
        "id": "KhTqiZw27oTu"
      }
    },
    {
      "cell_type": "markdown",
      "source": [
        "3. What are pre-defined keywords in Python ?\n",
        " - Python, pre-defined keywords are reserved words that have a special meaning and purpose in the language."
      ],
      "metadata": {
        "id": "B40kKrYy8AbG"
      }
    },
    {
      "cell_type": "markdown",
      "source": [
        "4. Can keywords be used as variable names ?\n",
        " - No,keywords cannot be used as variable names in Python."
      ],
      "metadata": {
        "id": "aOyIUuhT8wj0"
      }
    },
    {
      "cell_type": "markdown",
      "source": [
        "5.  What is mutability in Python ?\n",
        " - Mutability means whether the value of an object can be changed after it is created.\n",
        "\n",
        "Mutable objects → Can be changed (modified) after creation.\n",
        "\n",
        "Immutable objects → Cannot be changed once created; if you try, a new object is created."
      ],
      "metadata": {
        "id": "nnfJzbpK9KZL"
      }
    },
    {
      "cell_type": "markdown",
      "source": [
        "6. Why are lists mutable, but tuples are immutable ?\n",
        " - Lists are meant to be dynamic collections , Their elements can be added, removed, or modified at any time , where else Tuples are designed as fixed collections of items , Once created their data should not change."
      ],
      "metadata": {
        "id": "XfrUi9VqJiRV"
      }
    },
    {
      "cell_type": "markdown",
      "source": [
        "7. What is the difference between “==” and “is” operators in Python ?\n",
        " - == (Equality Operator) Compares the values of two objects , Checks whether the contents are the same.Example:\n",
        "\n",
        "a = [1, 2, 3]\n",
        "b = [1, 2, 3]\n",
        "\n",
        "print(a == b)   # True (values are same)\n",
        "\n",
        "- is (Identity Operator) Compares the memory location (object identity) of two objects , Checks whether both variables point to the same object in memory.Example:\n",
        "\n",
        "a = [1, 2, 3]\n",
        "b = [1, 2, 3]\n",
        "\n",
        "print(a is b)   #  False (different objects in memory)\n",
        "print(id(a), id(b))  # different memory IDs"
      ],
      "metadata": {
        "id": "5cjyoTi7Kh7S"
      }
    },
    {
      "cell_type": "markdown",
      "source": [
        "8. What are logical operators in Python ?\n",
        " - In Python, logical operators are used to combine conditional statements and return Boolean values (True or False).\n",
        " In short:\n",
        "and → both must be true\n",
        "or → at least one true\n",
        "not → reverses the result"
      ],
      "metadata": {
        "id": "xutumr-wLwi_"
      }
    },
    {
      "cell_type": "markdown",
      "source": [
        "9.  What is type casting in Python ?\n",
        " - Type casting (or type conversion) is the process of converting one data type into another.In Python, there are two main types of type casting: Implicit Type Casting (Type Conversion) , Explicit Type Casting (Type Casting by User)"
      ],
      "metadata": {
        "id": "aZ9RpYmSMoTI"
      }
    },
    {
      "cell_type": "markdown",
      "source": [],
      "metadata": {
        "id": "Yb6fQBAbTg6C"
      }
    },
    {
      "cell_type": "markdown",
      "source": [
        "10.  What is the difference between implicit and explicit type casting ?\n",
        " - Implicit Type Casting (Type Conversion) ,done automatically by Python,\n",
        " Happens when a smaller data type is converted into a larger data type to avoid data loss.\n",
        "\n",
        "Example:\n",
        "\n",
        "x = 10  (int)\n",
        "\n",
        "y = 3.5 (float)\n",
        "\n",
        "z = x + y ( int + float → float)\n",
        "\n",
        "print(z)  13.5\n",
        "\n",
        "print(type(z))  <class 'float'>\n",
        "\n",
        " = Explicit Type Casting (Type Casting by User) ,done manually using functions like int(), float(), str(), list(), tuple(), etc.\n",
        "\n",
        "Examples:\n",
        "\n",
        " - int to float\n",
        "\n",
        "a = 5\n",
        "b = float(a)\n",
        "print(b, type(b))  # 5.0 <class 'float'>\n",
        "\n",
        " - float to int\n",
        "\n",
        "x = 7.9\n",
        "y = int(x)\n",
        "print(y, type(y))  # 7 <class 'int'>\n",
        "\n",
        " - number to string\n",
        "\n",
        "num = 123\n",
        "s = str(num)\n",
        "print(s, type(s))  # '123' <class 'str'>\n",
        "\n",
        " - string to list\n",
        "\n",
        "text = \"hello\"\n",
        "lst = list(text)\n",
        "print(lst, type(lst))  ['h', 'e', 'l', 'l', 'o'] <class 'list'>\n"
      ],
      "metadata": {
        "id": "KzQ-NPvqOpDT"
      }
    },
    {
      "cell_type": "markdown",
      "source": [],
      "metadata": {
        "id": "ILkVnv5oTdO7"
      }
    },
    {
      "cell_type": "markdown",
      "source": [
        "11. What is the purpose of conditional statements in Python ?\n",
        " - The purpose of conditional statements in Python is to allow a program to make decisions and control the flow of execution based on certain conditions.\n",
        "  - Instead of executing every line in sequence, conditional statements let Python run different blocks of code depending on whether a condition is True or False."
      ],
      "metadata": {
        "id": "X9CRI2OEWg1N"
      }
    },
    {
      "cell_type": "markdown",
      "source": [
        "12. How does the elif statement work ?\n",
        " - elif stands for \"else if\" , It is used when you want to check multiple conditions.\n",
        "\n",
        " - Python checks each condition from top to bottom, and the first condition that evaluates to True will have its block executed.\n",
        "\n",
        " - Once a condition is True, Python skips the rest of the conditions.\n",
        "\n",
        " * You can use multiple elif statements.\n",
        "   elif must follow an if statement.\n",
        "  else is optional but must come at the end if used.\n",
        "\n"
      ],
      "metadata": {
        "id": "8b0f09-GW8Eb"
      }
    },
    {
      "cell_type": "markdown",
      "source": [
        "13. What is the difference between for and while loops ?\n",
        " - Used when the number of iterations is known (or you are looping through a sequence like list, string, range). for loop → use when you know how many times you want to loop.\n",
        "  - while loop Used when the number of iterations is not known — loop runs until a condition becomes False. while loop → use when you want to loop until a condition is met.\n"
      ],
      "metadata": {
        "id": "JWM6bw7XbKg_"
      }
    },
    {
      "cell_type": "markdown",
      "source": [
        "14. Describe a scenario where a while loop is more suitable than a for loop .\n",
        " - A while loop is better when you don’t know in advance how many times the loop will run, but you want it to continue until a certain condition is met.\n",
        " = Example Scenario: ATM PIN Verification\n",
        " Imagine an ATM system where a user must enter the correct PIN. You don’t know how many attempts they will take (could be 1, 2, or 3). Here, a while loop is more natural.\n",
        "\n",
        "correct_pin = \"1234\"\n",
        "entered_pin = \"\"\n",
        "\n",
        "while entered_pin != correct_pin:\n",
        "\n",
        "    entered_pin = input(\"Enter your ATM PIN: \")\n",
        "\n",
        "    if entered_pin == correct_pin:\n",
        "\n",
        "    print(\" Access Granted\")\n",
        "\n",
        "   else:\n",
        "    print(\" Wrong PIN, try again...\")\n",
        "\n",
        "\n",
        "Here, the loop continues until the correct PIN is entered.\n",
        "\n",
        " - A for loop would not fit well, because we don’t know the number of attempts in advance.\n"
      ],
      "metadata": {
        "id": "8KUoCpQcfbVe"
      }
    },
    {
      "cell_type": "markdown",
      "source": [
        "#Practical Questions\n"
      ],
      "metadata": {
        "id": "dITy_S1_DQ8Y"
      }
    },
    {
      "cell_type": "markdown",
      "source": [
        "1. Write a Python program to print \"Hello, World!\"\n"
      ],
      "metadata": {
        "id": "JBnEdd8_DeZI"
      }
    },
    {
      "cell_type": "code",
      "source": [
        "\n",
        "print(\"Hello, World!\")"
      ],
      "metadata": {
        "colab": {
          "base_uri": "https://localhost:8080/"
        },
        "id": "hKy91O5PbB0U",
        "outputId": "6c9caf7d-c8b8-4016-a374-861639bac2e2"
      },
      "execution_count": null,
      "outputs": [
        {
          "output_type": "stream",
          "name": "stdout",
          "text": [
            "Hello, World!\n"
          ]
        }
      ]
    },
    {
      "cell_type": "markdown",
      "source": [
        "2. Write a Python program that displays your name and age"
      ],
      "metadata": {
        "id": "CSEfoYIYEb9H"
      }
    },
    {
      "cell_type": "code",
      "source": [
        "print (\"Deepika sharma\")\n",
        "print (\"26\")"
      ],
      "metadata": {
        "colab": {
          "base_uri": "https://localhost:8080/"
        },
        "id": "vFkJyiQ_FBPt",
        "outputId": "69ea8663-57ee-4aed-f86e-2fc1a7370520"
      },
      "execution_count": null,
      "outputs": [
        {
          "output_type": "stream",
          "name": "stdout",
          "text": [
            "Deepika sharma\n",
            "26\n"
          ]
        }
      ]
    },
    {
      "cell_type": "markdown",
      "source": [
        "3. Write code to print all the pre-defined keywords in Python using the keyword library\n",
        "\n",
        "\n"
      ],
      "metadata": {
        "id": "WBDvHukOFeht"
      }
    },
    {
      "cell_type": "code",
      "source": [
        "# Program to print all pre-defined keywords in Python\n",
        "\n",
        "import keyword\n",
        "\n",
        "print(\"List of Python Keywords:\")\n",
        "print(keyword.kwlist)\n",
        "print(\"\\nTotal number of keywords:\", len(keyword.kwlist))\n"
      ],
      "metadata": {
        "id": "DDDFqUMHFm3k",
        "colab": {
          "base_uri": "https://localhost:8080/"
        },
        "outputId": "efc012dd-4abc-4aae-f007-22ee826a7f86"
      },
      "execution_count": 9,
      "outputs": [
        {
          "output_type": "stream",
          "name": "stdout",
          "text": [
            "List of Python Keywords:\n",
            "['False', 'None', 'True', 'and', 'as', 'assert', 'async', 'await', 'break', 'class', 'continue', 'def', 'del', 'elif', 'else', 'except', 'finally', 'for', 'from', 'global', 'if', 'import', 'in', 'is', 'lambda', 'nonlocal', 'not', 'or', 'pass', 'raise', 'return', 'try', 'while', 'with', 'yield']\n",
            "\n",
            "Total number of keywords: 35\n"
          ]
        }
      ]
    },
    {
      "cell_type": "markdown",
      "source": [
        "4. Write a program that checks if a given word is a Python keyword."
      ],
      "metadata": {
        "id": "mb8rajjxYMtD"
      }
    },
    {
      "cell_type": "code",
      "source": [
        "# Program to check if a given word is a Python keyword\n",
        "\n",
        "import keyword\n",
        "\n",
        "# Take user input\n",
        "word = input(\"Enter a word: \")\n",
        "\n",
        "# Check if it's a keyword\n",
        "if keyword.iskeyword(word):\n",
        "    print(f\"'{word}' is a Python keyword.\")\n",
        "else:\n",
        "    print(f\" '{word}' is NOT a Python keyword.\")\n",
        "\n"
      ],
      "metadata": {
        "colab": {
          "base_uri": "https://localhost:8080/"
        },
        "id": "QHzLcul9YWph",
        "outputId": "53c1dcb3-2e29-4f06-a620-12089213d3bb"
      },
      "execution_count": 2,
      "outputs": [
        {
          "output_type": "stream",
          "name": "stdout",
          "text": [
            "Enter a word: apple\n",
            " 'apple' is NOT a Python keyword.\n"
          ]
        }
      ]
    },
    {
      "cell_type": "markdown",
      "source": [
        "5.  Create a list and tuple in Python, and demonstrate how attempting to change an element works differently\n",
        "for each."
      ],
      "metadata": {
        "id": "TbpxiruoaR_Z"
      }
    },
    {
      "cell_type": "code",
      "source": [
        "# List Example (Mutable)\n",
        "my_list = [10, 20, 30, 40]\n",
        "print(\"Original List:\", my_list)\n",
        "\n",
        "# Changing the second element\n",
        "my_list[1] = 99\n",
        "print(\"Modified List:\", my_list)\n",
        "\n",
        "\n",
        "# Tuple Example (Immutable)\n",
        "my_tuple = (10, 20, 30, 40)\n",
        "print(\"\\nOriginal Tuple:\", my_tuple)\n",
        "\n",
        "# Trying to change the second element\n",
        "try:\n",
        "    my_tuple[1] = 99\n",
        "except TypeError as e:\n",
        "    print(\"Error:\", e)"
      ],
      "metadata": {
        "colab": {
          "base_uri": "https://localhost:8080/"
        },
        "id": "yOL6Vv0Da73u",
        "outputId": "6481a4cd-95e8-4875-ff2f-b3340df0b22b"
      },
      "execution_count": 3,
      "outputs": [
        {
          "output_type": "stream",
          "name": "stdout",
          "text": [
            "Original List: [10, 20, 30, 40]\n",
            "Modified List: [10, 99, 30, 40]\n",
            "\n",
            "Original Tuple: (10, 20, 30, 40)\n",
            "Error: 'tuple' object does not support item assignment\n"
          ]
        }
      ]
    },
    {
      "cell_type": "markdown",
      "source": [
        "6. Write a function to demonstrate the behavior of mutable and immutable arguments."
      ],
      "metadata": {
        "id": "9ag8LNtiaYB1"
      }
    },
    {
      "cell_type": "code",
      "source": [
        "number = 5\n",
        "numbers_list = [1, 2, 3]\n",
        "\n",
        "print(\"Before function call:\")\n",
        "print(\"number:\", number)\n",
        "print(\"numbers_list:\", numbers_list)\n",
        "\n",
        "# Call the function\n",
        "modify_arguments(number, numbers_list)\n",
        "\n",
        "print(\"\\nAfter function call:\")\n",
        "print(\"number:\", number)          # unchanged → immutable\n",
        "print(\"numbers_list:\", numbers_list)  # changed → mutable"
      ],
      "metadata": {
        "colab": {
          "base_uri": "https://localhost:8080/"
        },
        "id": "2Oxpzs2wjA7b",
        "outputId": "73d3eb8e-c6e5-4c77-e90a-e7ea091a7070"
      },
      "execution_count": 6,
      "outputs": [
        {
          "output_type": "stream",
          "name": "stdout",
          "text": [
            "Before function call:\n",
            "number: 5\n",
            "numbers_list: [1, 2, 3]\n",
            "Inside function:\n",
            "num: 15\n",
            "my_list: [1, 2, 3, 99]\n",
            "\n",
            "After function call:\n",
            "number: 5\n",
            "numbers_list: [1, 2, 3, 99]\n"
          ]
        }
      ]
    },
    {
      "cell_type": "markdown",
      "source": [
        "7. Write a program that performs basic arithmetic operations on two user-input numbers."
      ],
      "metadata": {
        "id": "b1Is6IjJbHZA"
      }
    },
    {
      "cell_type": "code",
      "source": [
        "# Program to perform basic arithmetic operations\n",
        "\n",
        "# Taking user input\n",
        "a = float(input(\"Enter first number: \"))\n",
        "b = float(input(\"Enter second number: \"))\n",
        "\n",
        "# Performing operations\n",
        "print(\"\\nResults of arithmetic operations:\")\n",
        "print(f\"{a} + {b} = {a + b}\")   # Addition\n",
        "print(f\"{a} - {b} = {a - b}\")   # Subtraction\n",
        "print(f\"{a} * {b} = {a * b}\")   # Multiplication\n",
        "\n",
        "if b != 0:  # Avoid division by zero\n",
        "    print(f\"{a} / {b} = {a / b}\")   # Division\n",
        "    print(f\"{a} % {b} = {a % b}\")   # Modulus\n",
        "else:\n",
        "    print(\"Division and modulus not possible (denominator = 0).\")\n",
        "\n",
        "print(f\"{a} ** {b} = {a ** b}\")  # Exponentiation"
      ],
      "metadata": {
        "colab": {
          "base_uri": "https://localhost:8080/"
        },
        "id": "bWMMccrbkSeE",
        "outputId": "9e3b1e49-1f55-4ef0-c40a-52603413962b"
      },
      "execution_count": 8,
      "outputs": [
        {
          "output_type": "stream",
          "name": "stdout",
          "text": [
            "Enter the first number: 10\n",
            "Enter the second number: 3\n",
            "\n",
            "Results of arithmetic operations:\n",
            "10.0 + 3.0 = 13.0\n",
            "10.0 - 3.0 = 7.0\n",
            "10.0 * 3.0 = 30.0\n",
            "10.0 / 3.0 = 3.3333333333333335\n",
            "10.0 % 3.0 = 1.0\n",
            "10.0 ** 3.0 = 1000.0\n"
          ]
        }
      ]
    },
    {
      "cell_type": "markdown",
      "source": [
        "8.  Write a program to demonstrate the use of logical operators."
      ],
      "metadata": {
        "id": "LwX9YO-2lxIH"
      }
    },
    {
      "cell_type": "code",
      "source": [
        "# Program to demonstrate logical operators in Python\n",
        "\n",
        "a = True\n",
        "b = False\n",
        "\n",
        "print(\"a =\", a)\n",
        "print(\"b =\", b)\n",
        "\n",
        "# AND operator\n",
        "print(\"\\n--- AND Operator ---\")\n",
        "print(\"a and b =\", a and b)   # True if both are True\n",
        "print(\"a and True =\", a and True)\n",
        "print(\"b and False =\", b and False)\n",
        "\n",
        "# OR operator\n",
        "print(\"\\n--- OR Operator ---\")\n",
        "print(\"a or b =\", a or b)     # True if at least one is True\n",
        "print(\"a or False =\", a or False)\n",
        "print(\"b or True =\", b or True)\n",
        "\n",
        "# NOT operator\n",
        "print(\"\\n--- NOT Operator ---\")\n",
        "print(\"not a =\", not a)       # Reverses the value\n",
        "print(\"not b =\", not b)\n"
      ],
      "metadata": {
        "colab": {
          "base_uri": "https://localhost:8080/"
        },
        "id": "WTXXjjQ7mXGO",
        "outputId": "62965487-08ca-4353-b1d6-efd52a8e9b84"
      },
      "execution_count": 10,
      "outputs": [
        {
          "output_type": "stream",
          "name": "stdout",
          "text": [
            "a = True\n",
            "b = False\n",
            "\n",
            "--- AND Operator ---\n",
            "a and b = False\n",
            "a and True = True\n",
            "b and False = False\n",
            "\n",
            "--- OR Operator ---\n",
            "a or b = True\n",
            "a or False = True\n",
            "b or True = True\n",
            "\n",
            "--- NOT Operator ---\n",
            "not a = False\n",
            "not b = True\n"
          ]
        }
      ]
    },
    {
      "cell_type": "markdown",
      "source": [
        "9.  Write a Python program to convert user input from string to integer, float, and boolean types."
      ],
      "metadata": {
        "id": "p19hs39zmnYn"
      }
    },
    {
      "cell_type": "code",
      "source": [
        "# Program to convert user input into int, float, and bool\n",
        "\n",
        "# Take input from user (always a string)\n",
        "user_input = input(\"Enter something: \")\n",
        "\n",
        "print(\"\\nOriginal (string):\", user_input)\n",
        "\n",
        "# Convert to integer\n",
        "try:\n",
        "    int_value = int(user_input)\n",
        "    print(\"As Integer:\", int_value)\n",
        "except ValueError:\n",
        "    print(\"As Integer: Cannot convert to int\")\n",
        "\n",
        "# Convert to float\n",
        "try:\n",
        "    float_value = float(user_input)\n",
        "    print(\"As Float:\", float_value)\n",
        "except ValueError:\n",
        "    print(\"As Float: Cannot convert to float\")\n",
        "\n",
        "# Convert to boolean\n",
        "# In Python, bool() of non-empty string is True, empty string is False\n",
        "bool_value = bool(user_input)\n",
        "print(\"As Boolean:\", bool_value)\n"
      ],
      "metadata": {
        "colab": {
          "base_uri": "https://localhost:8080/"
        },
        "id": "8XpkgIidnCUR",
        "outputId": "576714cb-d7aa-4e7c-d5f0-8c7123e368cb"
      },
      "execution_count": 11,
      "outputs": [
        {
          "output_type": "stream",
          "name": "stdout",
          "text": [
            "Enter something: 20\n",
            "\n",
            "Original (string): 20\n",
            "As Integer: 20\n",
            "As Float: 20.0\n",
            "As Boolean: True\n"
          ]
        }
      ]
    },
    {
      "cell_type": "markdown",
      "source": [
        "10. Write code to demonstrate type casting with list elements."
      ],
      "metadata": {
        "id": "t6rPUUivnooq"
      }
    },
    {
      "cell_type": "code",
      "source": [
        "# Program to demonstrate type casting with list elements\n",
        "\n",
        "# List with string elements\n",
        "str_list = [\"10\", \"20\", \"30\", \"40\", \"0\", \"\"]\n",
        "\n",
        "print(\"Original List (strings):\", str_list)\n",
        "\n",
        "# Convert each element to integer\n",
        "int_list = []\n",
        "for item in str_list:\n",
        "    try:\n",
        "        int_list.append(int(item))\n",
        "    except ValueError:\n",
        "        int_list.append(None)  # store None if conversion fails\n",
        "print(\"As Integers:\", int_list)\n",
        "\n",
        "# Convert each element to float\n",
        "float_list = []\n",
        "for item in str_list:\n",
        "    try:\n",
        "        float_list.append(float(item))\n",
        "    except ValueError:\n",
        "        float_list.append(None)\n",
        "print(\"As Floats:\", float_list)\n",
        "\n",
        "# Convert each element to boolean\n",
        "bool_list = [bool(item) for item in str_list]\n",
        "print(\"As Booleans:\", bool_list)\n"
      ],
      "metadata": {
        "colab": {
          "base_uri": "https://localhost:8080/"
        },
        "id": "VZz7qolrn5br",
        "outputId": "33e3d588-4b61-4b6d-8943-964f4073f3e8"
      },
      "execution_count": 12,
      "outputs": [
        {
          "output_type": "stream",
          "name": "stdout",
          "text": [
            "Original List (strings): ['10', '20', '30', '40', '0', '']\n",
            "As Integers: [10, 20, 30, 40, 0, None]\n",
            "As Floats: [10.0, 20.0, 30.0, 40.0, 0.0, None]\n",
            "As Booleans: [True, True, True, True, True, False]\n"
          ]
        }
      ]
    },
    {
      "cell_type": "markdown",
      "source": [
        " 11. Write a program that checks if a number is positive, negative, or zero.\n"
      ],
      "metadata": {
        "id": "lBITc5rHoPib"
      }
    },
    {
      "cell_type": "code",
      "source": [
        "# Program to check if a number is positive, negative, or zero\n",
        "\n",
        "# Take input from user\n",
        "num = float(input(\"Enter a number: \"))\n",
        "\n",
        "# Check conditions\n",
        "if num > 0:\n",
        "    print(f\"{num} is Positive.\")\n",
        "elif num < 0:\n",
        "    print(f\"{num} is Negative.\")\n",
        "else:\n",
        "    print(\"The number is Zero.\")\n"
      ],
      "metadata": {
        "colab": {
          "base_uri": "https://localhost:8080/"
        },
        "id": "qLXA_MoqokAW",
        "outputId": "42ba050a-082a-47e4-9082-111d5f084d96"
      },
      "execution_count": 13,
      "outputs": [
        {
          "output_type": "stream",
          "name": "stdout",
          "text": [
            "Enter a number: 5\n",
            "5.0 is Positive.\n"
          ]
        }
      ]
    },
    {
      "cell_type": "markdown",
      "source": [
        "12. Write a for loop to print numbers from 1 to 10"
      ],
      "metadata": {
        "id": "B3eL_z9CtAUI"
      }
    },
    {
      "cell_type": "code",
      "source": [
        "# Program to print numbers from 1 to 10 using a for loop\n",
        "for i in range (1,11):\n",
        "  print(i)"
      ],
      "metadata": {
        "colab": {
          "base_uri": "https://localhost:8080/"
        },
        "id": "VFaSNwjFtHCU",
        "outputId": "7c1a1a15-21e5-42f3-f295-6c9163d9ee34"
      },
      "execution_count": 14,
      "outputs": [
        {
          "output_type": "stream",
          "name": "stdout",
          "text": [
            "1\n",
            "2\n",
            "3\n",
            "4\n",
            "5\n",
            "6\n",
            "7\n",
            "8\n",
            "9\n",
            "10\n"
          ]
        }
      ]
    },
    {
      "cell_type": "markdown",
      "source": [
        "13. Write a Python program to find the sum of all even numbers between 1 and 50."
      ],
      "metadata": {
        "id": "VXH16UgGtnLE"
      }
    },
    {
      "cell_type": "code",
      "source": [
        "# Program to find the sum of all even numbers between 1 and 50\n",
        "\n",
        "total = 0\n",
        "\n",
        "for num in range(1, 51):   # from 1 to 50\n",
        "    if num % 2 == 0:       # check if even\n",
        "        total += num\n",
        "\n",
        "print(\"Sum of even numbers between 1 and 50 is:\", total)\n"
      ],
      "metadata": {
        "colab": {
          "base_uri": "https://localhost:8080/"
        },
        "id": "6vXZf-SCuF6M",
        "outputId": "9b5c3ff3-950b-4733-b986-1818813ae6f2"
      },
      "execution_count": 15,
      "outputs": [
        {
          "output_type": "stream",
          "name": "stdout",
          "text": [
            "Sum of even numbers between 1 and 50 is: 650\n"
          ]
        }
      ]
    },
    {
      "cell_type": "markdown",
      "source": [
        "14. Write a program to reverse a string using a while loop."
      ],
      "metadata": {
        "id": "aoItRAU2ugUu"
      }
    },
    {
      "cell_type": "code",
      "source": [
        "# Program to reverse a string using a while loop\n",
        "\n",
        "# Take input from user\n",
        "text = input(\"Enter a string: \")\n",
        "\n",
        "# Initialize variables\n",
        "reversed_text = \"\"\n",
        "index = len(text) - 1\n",
        "\n",
        "# Loop backwards through the string\n",
        "while index >= 0:\n",
        "    reversed_text += text[index]\n",
        "    index -= 1\n",
        "\n",
        "# Display result\n",
        "print(\"Reversed string:\", reversed_text)\n"
      ],
      "metadata": {
        "colab": {
          "base_uri": "https://localhost:8080/"
        },
        "id": "-85dAjotusy5",
        "outputId": "2e9efc81-6c06-4814-93c5-12c9f5607b42"
      },
      "execution_count": 17,
      "outputs": [
        {
          "output_type": "stream",
          "name": "stdout",
          "text": [
            "Enter a string: Deepika\n",
            "Reversed string: akipeeD\n"
          ]
        }
      ]
    },
    {
      "cell_type": "markdown",
      "source": [
        "15. Write a Python program to calculate the factorial of a number provided by the user using a while loop."
      ],
      "metadata": {
        "id": "7f3xLoAMu-EV"
      }
    },
    {
      "cell_type": "code",
      "source": [
        "# Program to calculate factorial using while loop\n",
        "\n",
        "# Take input from user\n",
        "num = int(input(\"Enter a number: \"))\n",
        "\n",
        "factorial = 1\n",
        "i = 1\n",
        "\n",
        "# Handle negative numbers\n",
        "if num < 0:\n",
        "    print(\" Factorial does not exist for negative numbers.\")\n",
        "elif num == 0:\n",
        "    print(\"Factorial of 0 is 1\")\n",
        "else:\n",
        "    while i <= num:\n",
        "        factorial *= i\n",
        "        i += 1\n",
        "    print(f\"Factorial of {num} is {factorial}\")\n"
      ],
      "metadata": {
        "colab": {
          "base_uri": "https://localhost:8080/"
        },
        "id": "4QDf2Z08v7Oi",
        "outputId": "6eedb22a-60ca-44ec-dd82-33ea47dc379c"
      },
      "execution_count": 18,
      "outputs": [
        {
          "output_type": "stream",
          "name": "stdout",
          "text": [
            "Enter a number: 7\n",
            "Factorial of 7 is 5040\n"
          ]
        }
      ]
    }
  ]
}